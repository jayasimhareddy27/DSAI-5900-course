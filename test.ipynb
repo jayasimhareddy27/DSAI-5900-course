{
 "cells": [
  {
   "cell_type": "code",
   "execution_count": 1,
   "metadata": {},
   "outputs": [
    {
     "name": "stderr",
     "output_type": "stream",
     "text": [
      "C:\\Users\\valla\\AppData\\Local\\Packages\\PythonSoftwareFoundation.Python.3.12_qbz5n2kfra8p0\\LocalCache\\local-packages\\Python312\\site-packages\\tqdm\\auto.py:21: TqdmWarning: IProgress not found. Please update jupyter and ipywidgets. See https://ipywidgets.readthedocs.io/en/stable/user_install.html\n",
      "  from .autonotebook import tqdm as notebook_tqdm\n",
      "Loading checkpoint shards: 100%|██████████| 4/4 [02:20<00:00, 35.10s/it]\n"
     ]
    },
    {
     "name": "stdout",
     "output_type": "stream",
     "text": [
      "32768\n"
     ]
    }
   ],
   "source": [
    "from sentence_transformers import SentenceTransformer, util\n",
    "import torch\n",
    "model = SentenceTransformer(\"nvidia/NV-Embed-v2\",trust_remote_code=True)\n",
    "print(model.max_seq_length)"
   ]
  },
  {
   "cell_type": "code",
   "execution_count": 35,
   "metadata": {},
   "outputs": [],
   "source": [
    "from langchain_huggingface import HuggingFaceEmbeddings\n",
    "from langchain.vectorstores import Chroma\n",
    "import pickle\n",
    "import os\n",
    "\n",
    "with open('Chunks/chunks_400_100.pkl', 'rb') as file:\n",
    "    loaded_data = pickle.load(file)\n",
    "\n",
    "chunks=loaded_data"
   ]
  },
  {
   "cell_type": "code",
   "execution_count": 36,
   "metadata": {},
   "outputs": [],
   "source": [
    "corpus =[chunk.page_content for chunk in chunks]\n",
    "corpus_embeddings = model.encode(corpus, normalize_embeddings=True)\n",
    "\n"
   ]
  },
  {
   "cell_type": "code",
   "execution_count": 41,
   "metadata": {},
   "outputs": [],
   "source": [
    "query = \"What materials are acceptable for fireblocking in residential construction?\"\n",
    "query_embedding = model.encode(query, normalize_embeddings=True)\n",
    "\n",
    "dot_scores = util.dot_score(query_embedding, corpus_embeddings)[0]\n",
    "top_results = torch.topk(dot_scores, k=5)\n",
    "\n"
   ]
  },
  {
   "cell_type": "code",
   "execution_count": 42,
   "metadata": {},
   "outputs": [
    {
     "data": {
      "text/plain": [
       "['DEFINITIONS\\n2018 INTERNATIONAL RESIDENTIAL CODE ® 17\\n[RB] FIREBLOCKING.  Building materials or materials\\napproved for use as fireblocking, installed to resist the free\\npassage of flame to other areas of the building through con-\\ncealed spaces.\\n[RB] FIREPLACE. An assembly consisting of a hearth and\\nfire chamber of noncombustible material and provided with a\\nchimney, for use with solid fuels.',\n",
       " 'Fireblocking  . . . . . . . . . . . . . . . . . . . . . . . . . R302.11\\nFloors . . . . . . . . . . . . . . . . . . . . . . . . . . . . . . R302.13\\nFoam plastics . . . . . . . . . . . . . . . . . . . . . . . . . R302.8\\nInsulation  . . . . . . . . . . . . . . . . . . . R302.10, R302.14\\nPenetrations . . . . . . . . . . . . . . . . . . . . . . . . . . R302.4',\n",
       " 'R302.11.1 Fireblocking materials. Except as provided in\\nSection R302.11, Item 4, fireblocking shall consist of the\\nfollowing materials.\\n1. Two-inch (51 mm) nominal lumber.\\n2. Two thicknesses of 1-inch (25.4 mm) nominal lum-\\nber with broken lap joints.\\n3. One thickness of 23/32-inch (18.3 mm) wood struc-\\ntural panels with joints backed by 23/32-inch (18.3\\nmm) wood structural panels.',\n",
       " 'other approved nonrigid materials shall be permitted\\nfor compliance with the 10-foot (3048 mm) horizontal\\nfireblocking in walls constructed using parallel rows of\\nstuds or staggered studs.\\nR302.11.1.2 Unfaced fiberglass.  Unfaced fiberglass\\nbatt insulation used as fireblocking shall fill the entire\\ncross section of the wall cavity to a height of not less',\n",
       " 'combustion. The material filling this annular space\\nshall not be required to meet the ASTM E136 require-\\nments.\\n5. For the fireblocking of chimneys and fireplaces, see\\nSection R1003.19.\\n6. Fireblocking of cornices of a two-family dwelling is\\nrequired at the line of dwelling unit separation.\\nR302.11.1 Fireblocking materials. Except as provided in']"
      ]
     },
     "execution_count": 42,
     "metadata": {},
     "output_type": "execute_result"
    }
   ],
   "source": [
    "Returned_retrieved_chunks=[]\n",
    "for score, idx in zip(top_results[0], top_results[1]):\n",
    "    Returned_retrieved_chunks.append(corpus[idx])\n",
    "\n",
    "Returned_retrieved_chunks"
   ]
  },
  {
   "cell_type": "code",
   "execution_count": 47,
   "metadata": {},
   "outputs": [
    {
     "name": "stdout",
     "output_type": "stream",
     "text": [
      "Based  on  the  provided  text ,  according  to  Section  R 302 . 11 . 1 ,  the  following  materials  are  acceptable  for  fire blocking  in  residential  construction :\n",
      "\n",
      " 1 .  Two -inch  ( 51  mm )  nominal  lumber .\n",
      " 2 .  Two  thickness es  of   1 -inch  ( 25 . 4  mm )  nominal  lumber  with  broken  lap  joints .\n",
      " 3 .  One  thickness  of   23 / 32 -inch  ( 18 . 3  mm )  wood  structural  panels  with  joints  backed  by   23 / 32 -inch  ( 18 . 3  mm )  wood  structural  panels .\n",
      " 4 .  Other  approved  non rig id  materials ,  such  as  unf aced  fiberglass  batt  insulation ,  used  for  horizontal  fire blocking  in  walls  constructed  using  parallel  rows  of  studs  or  stagger ed  studs .\n",
      "\n",
      " Please  note  that  these  materials  are  accepted  for  compliance  with  the   10 -foot  ( 304 8  mm )  horizontal  fire blocking  in  walls  constructed  using  parallel  rows  of  studs  or  stagger ed  studs .  \n"
     ]
    }
   ],
   "source": [
    "Returned_retrieved_chunks=[]\n",
    "for score, idx in zip(top_results[0], top_results[1]):\n",
    "    Returned_retrieved_chunks.append(corpus[idx])\n",
    "\n",
    "\n",
    "import requests\n",
    "import json\n",
    "\n",
    "url = 'http://localhost:11434/api/generate'\n",
    "payload = {\n",
    "    \"model\": \"llama3\",\n",
    "    \"prompt\": f\"I will provide you text please do you use that text only to give answer for my query. Text:{Returned_retrieved_chunks}, query:{query}, \"\n",
    "}\n",
    "data = json.dumps(payload)\n",
    "\n",
    "response = requests.post(url, data=data, headers={'Content-Type': 'application/json'})\n",
    "\n",
    "if response.status_code == 200:\n",
    "    list_dict_words = []\n",
    "    for each_word in response.text.split(\"\\n\"):\n",
    "        try:\n",
    "            data = json.loads(each_word) \n",
    "        except:\n",
    "            pass\n",
    "        list_dict_words.append(data)\n",
    "        \n",
    "\n",
    "\n",
    "llama_response = \" \".join([word['response'] for word in list_dict_words if type(word) == type({})])\n",
    "print(llama_response)"
   ]
  },
  {
   "cell_type": "code",
   "execution_count": null,
   "metadata": {},
   "outputs": [],
   "source": []
  }
 ],
 "metadata": {
  "kernelspec": {
   "display_name": "Python 3",
   "language": "python",
   "name": "python3"
  },
  "language_info": {
   "codemirror_mode": {
    "name": "ipython",
    "version": 3
   },
   "file_extension": ".py",
   "mimetype": "text/x-python",
   "name": "python",
   "nbconvert_exporter": "python",
   "pygments_lexer": "ipython3",
   "version": "3.12.9"
  }
 },
 "nbformat": 4,
 "nbformat_minor": 2
}
