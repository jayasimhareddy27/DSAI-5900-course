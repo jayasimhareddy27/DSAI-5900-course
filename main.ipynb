{
 "cells": [
  {
   "cell_type": "markdown",
   "metadata": {},
   "source": [
    "Imports"
   ]
  },
  {
   "cell_type": "code",
   "execution_count": 1,
   "metadata": {},
   "outputs": [],
   "source": [
    "from langchain_huggingface import HuggingFaceEmbeddings\n",
    "from langchain.document_loaders import PyPDFLoader\n",
    "from langchain.text_splitter import RecursiveCharacterTextSplitter\n",
    "from langchain.vectorstores import Chroma"
   ]
  },
  {
   "cell_type": "markdown",
   "metadata": {},
   "source": [
    "Functions"
   ]
  },
  {
   "cell_type": "code",
   "execution_count": null,
   "metadata": {},
   "outputs": [
    {
     "name": "stderr",
     "output_type": "stream",
     "text": [
      "c:\\Users\\valla\\Desktop\\RAG\\.venv\\Lib\\site-packages\\tqdm\\auto.py:21: TqdmWarning: IProgress not found. Please update jupyter and ipywidgets. See https://ipywidgets.readthedocs.io/en/stable/user_install.html\n",
      "  from .autonotebook import tqdm as notebook_tqdm\n",
      "c:\\Users\\valla\\Desktop\\RAG\\.venv\\Lib\\site-packages\\huggingface_hub\\file_download.py:142: UserWarning: `huggingface_hub` cache-system uses symlinks by default to efficiently store duplicated files but your machine does not support them in C:\\Users\\valla\\.cache\\huggingface\\hub\\models--sentence-transformers--all-MiniLM-L6-v2. Caching files will still work but in a degraded version that might require more space on your disk. This warning can be disabled by setting the `HF_HUB_DISABLE_SYMLINKS_WARNING` environment variable. For more details, see https://huggingface.co/docs/huggingface_hub/how-to-cache#limitations.\n",
      "To support symlinks on Windows, you either need to activate Developer Mode or to run Python as an administrator. In order to activate developer mode, see this article: https://docs.microsoft.com/en-us/windows/apps/get-started/enable-your-device-for-development\n",
      "  warnings.warn(message)\n"
     ]
    }
   ],
   "source": [
    "embedding_model = HuggingFaceEmbeddings(model_name=\"sentence-transformers/gooaq\")\n",
    "\n",
    "\n",
    "def Read_PDF_LandChain(pdf_path=\"2018_IRC_1stptg.pdf\",User_chunk_size=100,User_chunk_overlap=100):\n",
    "    loader = PyPDFLoader(pdf_path)\n",
    "    documents = loader.load()\n",
    "    text_splitter = RecursiveCharacterTextSplitter(\n",
    "        chunk_size=User_chunk_size, \n",
    "        chunk_overlap=User_chunk_overlap  \n",
    "    )\n",
    "    chunks = text_splitter.split_documents(documents)\n",
    "    print(f\"Total Chunks Created: {len(chunks)}\")\n",
    "    return chunks\n",
    "\n",
    "def Return_retrieved_docs(retrieved_docs):\n",
    "    if retrieved_docs:\n",
    "        print(f\" Retrieved {len(retrieved_docs)} documents!\")\n",
    "        for i, doc in enumerate(retrieved_docs):\n",
    "            print(f\"\\n🔹 Chunk {i+1}:\\n{doc.page_content}\")\n",
    "    else:\n",
    "        print(\" No documents retrieved!\")\n",
    "\n",
    "    return [doc.page_content for doc in retrieved_docs]\n"
   ]
  },
  {
   "cell_type": "code",
   "execution_count": 11,
   "metadata": {},
   "outputs": [
    {
     "name": "stdout",
     "output_type": "stream",
     "text": [
      "Total Chunks Created: 171\n"
     ]
    }
   ],
   "source": [
    "chunks=Read_PDF_LandChain(pdf_path=\"CricketLaws.pdf\",User_chunk_size=100,User_chunk_overlap=0)"
   ]
  },
  {
   "cell_type": "code",
   "execution_count": 23,
   "metadata": {},
   "outputs": [
    {
     "name": "stdout",
     "output_type": "stream",
     "text": [
      "55044\n"
     ]
    }
   ],
   "source": [
    "vector_store = Chroma.from_documents(\n",
    "    chunks, \n",
    "    embedding_model, \n",
    "    persist_directory=\"./chroma_db\"\n",
    ")\n",
    "doc_count = vector_store._collection.count()\n",
    "print(doc_count)"
   ]
  },
  {
   "cell_type": "code",
   "execution_count": 20,
   "metadata": {},
   "outputs": [],
   "source": [
    "query=\"Is the bowler allowed to change ends?\"\n",
    "retriever = vector_store.as_retriever(search_kwargs={\"k\": 5})\n",
    "retrieved_docs = retriever.invoke(query)  "
   ]
  },
  {
   "cell_type": "code",
   "execution_count": 21,
   "metadata": {},
   "outputs": [
    {
     "name": "stdout",
     "output_type": "stream",
     "text": [
      "✅ Retrieved 5 documents!\n",
      "\n",
      "🔹 Chunk 1:\n",
      "ground before actual delivery, the said bowler may run him out; but if the bowler throw at that\n",
      "\n",
      "🔹 Chunk 2:\n",
      "“Play”; from that time no trial ball shall be allowed to any bowler on the ground between the\n",
      "\n",
      "🔹 Chunk 3:\n",
      "motion, or if any part of his person be over or before the wicket, the striker shall not be out,\n",
      "\n",
      "🔹 Chunk 4:\n",
      "52 No umpire shall be changed during a match, unless with the consent of both sides, except in\n",
      "\n",
      "🔹 Chunk 5:\n",
      "35 After the ball shall have been finally settled i n the wicket-keeper’s or bowler’s hand, it\n",
      "ground before actual delivery, the said bowler may run him out; but if the bowler throw at that\n",
      "“Play”; from that time no trial ball shall be allowed to any bowler on the ground between the\n",
      "motion, or if any part of his person be over or before the wicket, the striker shall not be out,\n",
      "52 No umpire shall be changed during a match, unless with the consent of both sides, except in\n",
      "35 After the ball shall have been finally settled i n the wicket-keeper’s or bowler’s hand, it\n"
     ]
    }
   ],
   "source": [
    "retrieved_chunks=Return_retrieved_docs(retrieved_docs)\n",
    "Returned_retrieved_chunks=\"\\n\".join(retrieved_chunks)\n",
    "print(Returned_retrieved_chunks)"
   ]
  },
  {
   "cell_type": "code",
   "execution_count": 25,
   "metadata": {},
   "outputs": [
    {
     "name": "stdout",
     "output_type": "stream",
     "text": [
      "According  to  the  text ,  there  is  no  mention  of  the  bow ler  being  allowed  to  change  ends .  In  fact ,  it  suggests  that  once  a  bow ler  has  started  bowling  from  a  particular  end  ( after  \" that  ' Play ' \"),  they  are  not  allowed  to  throw  trial  balls  anymore .  There  is  no  provision  or  indication  in  this  text  that  allows  the  bow ler  to  change  ends  during  the  match .  \n"
     ]
    }
   ],
   "source": [
    "import requests\n",
    "import json\n",
    "\n",
    "url = 'http://localhost:11434/api/generate'\n",
    "payload = {\n",
    "    \"model\": \"llama3\",\n",
    "    \"prompt\": f\"I will provide you text please do you use that text only to give answer for my query. Text:{Returned_retrieved_chunks}, query:{query}, \"\n",
    "}\n",
    "data = json.dumps(payload)\n",
    "\n",
    "response = requests.post(url, data=data, headers={'Content-Type': 'application/json'})\n",
    "\n",
    "if response.status_code == 200:\n",
    "    list_dict_words = []\n",
    "    for each_word in response.text.split(\"\\n\"):\n",
    "        try:\n",
    "            data = json.loads(each_word) \n",
    "        except:\n",
    "            pass\n",
    "        list_dict_words.append(data)\n",
    "        \n",
    "\n",
    "\n",
    "llama_response = \" \".join([word['response'] for word in list_dict_words if type(word) == type({})])\n",
    "print(llama_response)"
   ]
  },
  {
   "cell_type": "code",
   "execution_count": null,
   "metadata": {},
   "outputs": [],
   "source": []
  }
 ],
 "metadata": {
  "kernelspec": {
   "display_name": ".venv",
   "language": "python",
   "name": "python3"
  },
  "language_info": {
   "codemirror_mode": {
    "name": "ipython",
    "version": 3
   },
   "file_extension": ".py",
   "mimetype": "text/x-python",
   "name": "python",
   "nbconvert_exporter": "python",
   "pygments_lexer": "ipython3",
   "version": "3.12.9"
  }
 },
 "nbformat": 4,
 "nbformat_minor": 2
}
