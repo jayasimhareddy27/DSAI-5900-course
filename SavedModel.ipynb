{
 "cells": [
  {
   "cell_type": "code",
   "execution_count": 1,
   "metadata": {},
   "outputs": [],
   "source": [
    "from langchain_huggingface import HuggingFaceEmbeddings\n",
    "from langchain.vectorstores import Chroma\n",
    "import pickle\n",
    "import os"
   ]
  },
  {
   "cell_type": "code",
   "execution_count": 2,
   "metadata": {},
   "outputs": [],
   "source": [
    "def Return_retrieved_docs(retrieved_docs):\n",
    "    if retrieved_docs:\n",
    "        print(f\" Retrieved {len(retrieved_docs)} documents!\")\n",
    "        for i, doc in enumerate(retrieved_docs):\n",
    "            print(f\"\\n🔹 Chunk {i+1}:\\n{doc.page_content}\")\n",
    "    else:\n",
    "        print(\" No documents retrieved!\")\n",
    "\n",
    "    return [doc.page_content for doc in retrieved_docs]\n"
   ]
  },
  {
   "cell_type": "code",
   "execution_count": 3,
   "metadata": {},
   "outputs": [],
   "source": [
    "with open('Chunks/chunks_400_100.pkl', 'rb') as file:\n",
    "    loaded_data = pickle.load(file)\n",
    "\n",
    "chunks=loaded_data"
   ]
  },
  {
   "cell_type": "code",
   "execution_count": 35,
   "metadata": {},
   "outputs": [
    {
     "name": "stdout",
     "output_type": "stream",
     "text": [
      "Loading existing vector database...\n",
      "Document count: 12520\n"
     ]
    }
   ],
   "source": [
    "model_name=\"intfloat/e5-large-v2\"\n",
    "persist_dir = f\"./chroma_db/{model_name.replace('/', '-')}\"\n",
    "\n",
    "model = HuggingFaceEmbeddings(model_name=model_name)\n",
    "\n",
    "if os.path.exists(persist_dir):\n",
    "    print(\"Loading existing vector database...\")\n",
    "    vector_store = Chroma(persist_directory=persist_dir, embedding_function=model)\n",
    "else:\n",
    "    print(\"Create a new vector database...\")\n",
    "\n",
    "doc_count = vector_store._collection.count()\n",
    "print(f\"Document count: {doc_count}\")\n"
   ]
  },
  {
   "cell_type": "code",
   "execution_count": 36,
   "metadata": {},
   "outputs": [],
   "source": [
    "query=\"What are the requirements for plumbing fixture clearances?\"\n",
    "retriever = vector_store.as_retriever(search_kwargs={\"k\": 5})\n",
    "retrieved_docs = retriever.invoke(query)"
   ]
  },
  {
   "cell_type": "code",
   "execution_count": 37,
   "metadata": {},
   "outputs": [
    {
     "name": "stdout",
     "output_type": "stream",
     "text": [
      " Retrieved 5 documents!\n",
      "\n",
      "🔹 Chunk 1:\n",
      "vanity or closer than 30 inches (762 mm) center-to-cen-\n",
      "ter between adjacent fixtures. There shall be a clearance\n",
      "of not less than 21 inches (533 mm) in front of a water\n",
      "closet, lavatory or bidet to any wall, fixture or door.\n",
      "6. The location of piping, fixtures or equipment shall not\n",
      "interfere with the operation of windows or doors.\n",
      "7. In flood hazard areas as established by Table R301.2(1),\n",
      "\n",
      "🔹 Chunk 2:\n",
      "and other equipment and appliances to permit maintenance,\n",
      "servicing and replacement. Clearances shall be maintained to\n",
      "permit cleaning of heating and cooling surfaces; replacement\n",
      "of filters, blowers, motors, controls and vent connections;\n",
      "lubrication of moving parts; and adjustments.\n",
      "Exception: Access shall not be required for ducts, piping,\n",
      "or other components approved for concealment.\n",
      "\n",
      "🔹 Chunk 3:\n",
      "age piping only in the direction of drainage flow.\n",
      "Exceptions:\n",
      "1. Test tees serving as cleanouts.\n",
      "2. A two-way cleanout installation that is approved\n",
      "for meeting the requirements of Section\n",
      "P3005.2.3.\n",
      "P3005.2.9 Required clearance. Cleanouts for 6-inch (153\n",
      "mm) and smaller piping shall be provided with a clearance\n",
      "of not less than 18 inches (457 mm) from, and perpendicu-\n",
      "\n",
      "🔹 Chunk 4:\n",
      "there is a minimum clearance of 12 inches (305 mm)\n",
      "between the fixture and the nearest point of a storage\n",
      "space.\n",
      "2. Surface-mounted fluorescent luminaires shall be\n",
      "installed on the wall above the door or on the ceiling,\n",
      "provided that there is a minimum clearance of 6 inches\n",
      "(152 mm).\n",
      "3. Recessed incandescent luminaires or LED luminaires\n",
      "with a completely enclosed light source shall be\n",
      "\n",
      "🔹 Chunk 5:\n",
      "flowing, except blowout action fixtures must not be less than\n",
      "25 psi (172.4 kPa) flowing.\n",
      "AP103.2 Pipe sizing.\n",
      "AP103.2.1 Pipe sizes can be selected using the following\n",
      "procedure or by use of other design methods conforming\n",
      "to acceptable engineering practice that are approved by the\n",
      "building official. The sizes selected must not be less than\n",
      "the minimum required by this code.\n",
      "vanity or closer than 30 inches (762 mm) center-to-cen-\n",
      "ter between adjacent fixtures. There shall be a clearance\n",
      "of not less than 21 inches (533 mm) in front of a water\n",
      "closet, lavatory or bidet to any wall, fixture or door.\n",
      "6. The location of piping, fixtures or equipment shall not\n",
      "interfere with the operation of windows or doors.\n",
      "7. In flood hazard areas as established by Table R301.2(1),\n",
      "and other equipment and appliances to permit maintenance,\n",
      "servicing and replacement. Clearances shall be maintained to\n",
      "permit cleaning of heating and cooling surfaces; replacement\n",
      "of filters, blowers, motors, controls and vent connections;\n",
      "lubrication of moving parts; and adjustments.\n",
      "Exception: Access shall not be required for ducts, piping,\n",
      "or other components approved for concealment.\n",
      "age piping only in the direction of drainage flow.\n",
      "Exceptions:\n",
      "1. Test tees serving as cleanouts.\n",
      "2. A two-way cleanout installation that is approved\n",
      "for meeting the requirements of Section\n",
      "P3005.2.3.\n",
      "P3005.2.9 Required clearance. Cleanouts for 6-inch (153\n",
      "mm) and smaller piping shall be provided with a clearance\n",
      "of not less than 18 inches (457 mm) from, and perpendicu-\n",
      "there is a minimum clearance of 12 inches (305 mm)\n",
      "between the fixture and the nearest point of a storage\n",
      "space.\n",
      "2. Surface-mounted fluorescent luminaires shall be\n",
      "installed on the wall above the door or on the ceiling,\n",
      "provided that there is a minimum clearance of 6 inches\n",
      "(152 mm).\n",
      "3. Recessed incandescent luminaires or LED luminaires\n",
      "with a completely enclosed light source shall be\n",
      "flowing, except blowout action fixtures must not be less than\n",
      "25 psi (172.4 kPa) flowing.\n",
      "AP103.2 Pipe sizing.\n",
      "AP103.2.1 Pipe sizes can be selected using the following\n",
      "procedure or by use of other design methods conforming\n",
      "to acceptable engineering practice that are approved by the\n",
      "building official. The sizes selected must not be less than\n",
      "the minimum required by this code.\n"
     ]
    }
   ],
   "source": [
    "retrieved_chunks=Return_retrieved_docs(retrieved_docs)\n",
    "Returned_retrieved_chunks=\"\\n\".join(retrieved_chunks)\n",
    "print(Returned_retrieved_chunks)"
   ]
  },
  {
   "cell_type": "code",
   "execution_count": 38,
   "metadata": {},
   "outputs": [
    {
     "name": "stdout",
     "output_type": "stream",
     "text": [
      "Based  on  the  provided  text ,  the  requirements  for  plumbing  fixture  clear ances  are :\n",
      "\n",
      " 1 .  There  shall  be  a  clearance  of  not  less  than   21  inches  ( 533  mm )  in  front  of  a  water  closet ,  lav atory  or  bid et  to  any  wall ,  fixture  or  door .\n",
      " 2 .  The  location  of  piping ,  fixtures  or  equipment  shall  not  interfere  with  the  operation  of  windows  or  doors .\n",
      "\n",
      " Additionally ,  there  is  a  minimum  clearance  of   12  inches  ( 305  mm )  between  the  fixture  and  the  nearest  point  of  a  storage  space .  \n"
     ]
    }
   ],
   "source": [
    "import requests\n",
    "import json\n",
    "\n",
    "url = 'http://localhost:11434/api/generate'\n",
    "payload = {\n",
    "    \"model\": \"llama3\",\n",
    "    \"prompt\": f\"I will provide you text please do you use that text only to give answer for my query. Text:{Returned_retrieved_chunks}, query:{query}, \"\n",
    "}\n",
    "data = json.dumps(payload)\n",
    "\n",
    "response = requests.post(url, data=data, headers={'Content-Type': 'application/json'})\n",
    "\n",
    "if response.status_code == 200:\n",
    "    list_dict_words = []\n",
    "    for each_word in response.text.split(\"\\n\"):\n",
    "        try:\n",
    "            data = json.loads(each_word) \n",
    "        except:\n",
    "            pass\n",
    "        list_dict_words.append(data)\n",
    "        \n",
    "\n",
    "\n",
    "llama_response = \" \".join([word['response'] for word in list_dict_words if type(word) == type({})])\n",
    "print(llama_response)"
   ]
  }
 ],
 "metadata": {
  "kernelspec": {
   "display_name": "Python 3",
   "language": "python",
   "name": "python3"
  },
  "language_info": {
   "codemirror_mode": {
    "name": "ipython",
    "version": 3
   },
   "file_extension": ".py",
   "mimetype": "text/x-python",
   "name": "python",
   "nbconvert_exporter": "python",
   "pygments_lexer": "ipython3",
   "version": "3.12.9"
  }
 },
 "nbformat": 4,
 "nbformat_minor": 2
}
