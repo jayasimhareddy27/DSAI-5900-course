{
 "cells": [
  {
   "cell_type": "code",
   "execution_count": 1,
   "metadata": {},
   "outputs": [],
   "source": [
    "from langchain_huggingface import HuggingFaceEmbeddings\n",
    "from langchain.document_loaders import PyPDFLoader\n",
    "from langchain.text_splitter import RecursiveCharacterTextSplitter\n",
    "import pickle\n",
    "import os"
   ]
  },
  {
   "cell_type": "code",
   "execution_count": 2,
   "metadata": {},
   "outputs": [],
   "source": [
    "def Read_PDF_LandChain(pdf_path=\"2018_IRC_1stptg.pdf\",User_chunk_size=100,User_chunk_overlap=100):\n",
    "    loader = PyPDFLoader(pdf_path)\n",
    "    documents = loader.load()\n",
    "    text_splitter = RecursiveCharacterTextSplitter(\n",
    "        chunk_size=User_chunk_size, \n",
    "        chunk_overlap=User_chunk_overlap  \n",
    "    )\n",
    "    chunks = text_splitter.split_documents(documents)\n",
    "    print(f\"Total Chunks Created: {len(chunks)}\")\n",
    "    return chunks\n",
    "\n",
    "\n",
    "def save_pdf_chunks(pdf_path, chunk_sizes, chunk_overlaps, output_dir=\"Chunks\"):\n",
    "    os.makedirs(output_dir, exist_ok=True)\n",
    "    for size in chunk_sizes:\n",
    "        for overlap in chunk_overlaps:\n",
    "            if overlap >= size:\n",
    "                print(f\" Skipping invalid combination: chunk_size={size}, overlap={overlap}\")\n",
    "                continue\n",
    "            \n",
    "            try:\n",
    "                chunks = Read_PDF_LandChain(pdf_path, User_chunk_size=size, User_chunk_overlap=overlap)\n",
    "                filename = f\"chunks_{size}_{overlap}.pkl\"\n",
    "                file_path = os.path.join(output_dir, filename)\n",
    "                with open(file_path, 'wb') as file:\n",
    "                    pickle.dump(chunks, file)\n",
    "\n",
    "                print(f\" Saved: {file_path}\")\n",
    "\n",
    "            except Exception as e:\n",
    "                print(f\" Failed to process size={size}, overlap={overlap}: {e}\")"
   ]
  },
  {
   "cell_type": "code",
   "execution_count": 4,
   "metadata": {},
   "outputs": [
    {
     "name": "stdout",
     "output_type": "stream",
     "text": [
      "Total Chunks Created: 53873\n",
      " Saved: ChunksFromInit\\chunks_100_0.pkl\n"
     ]
    },
    {
     "ename": "KeyboardInterrupt",
     "evalue": "",
     "output_type": "error",
     "traceback": [
      "\u001b[31m---------------------------------------------------------------------------\u001b[39m",
      "\u001b[31mKeyboardInterrupt\u001b[39m                         Traceback (most recent call last)",
      "\u001b[36mCell\u001b[39m\u001b[36m \u001b[39m\u001b[32mIn[4]\u001b[39m\u001b[32m, line 5\u001b[39m\n\u001b[32m      2\u001b[39m chunk_overlaps = [\u001b[32m0\u001b[39m, \u001b[32m20\u001b[39m, \u001b[32m50\u001b[39m, \u001b[32m100\u001b[39m, \u001b[32m150\u001b[39m]\n\u001b[32m      3\u001b[39m pdf_path = \u001b[33m\"\u001b[39m\u001b[33m2018_IRC_1stptg.pdf\u001b[39m\u001b[33m\"\u001b[39m\n\u001b[32m----> \u001b[39m\u001b[32m5\u001b[39m \u001b[43msave_pdf_chunks\u001b[49m\u001b[43m(\u001b[49m\u001b[43mpdf_path\u001b[49m\u001b[43m,\u001b[49m\u001b[43m \u001b[49m\u001b[43mchunk_sizes\u001b[49m\u001b[43m,\u001b[49m\u001b[43m \u001b[49m\u001b[43mchunk_overlaps\u001b[49m\u001b[43m)\u001b[49m\n",
      "\u001b[36mCell\u001b[39m\u001b[36m \u001b[39m\u001b[32mIn[3]\u001b[39m\u001b[32m, line 22\u001b[39m, in \u001b[36msave_pdf_chunks\u001b[39m\u001b[34m(pdf_path, chunk_sizes, chunk_overlaps, output_dir)\u001b[39m\n\u001b[32m     19\u001b[39m     \u001b[38;5;28;01mcontinue\u001b[39;00m\n\u001b[32m     21\u001b[39m \u001b[38;5;28;01mtry\u001b[39;00m:\n\u001b[32m---> \u001b[39m\u001b[32m22\u001b[39m     chunks = \u001b[43mRead_PDF_LandChain\u001b[49m\u001b[43m(\u001b[49m\u001b[43mpdf_path\u001b[49m\u001b[43m,\u001b[49m\u001b[43m \u001b[49m\u001b[43mUser_chunk_size\u001b[49m\u001b[43m=\u001b[49m\u001b[43msize\u001b[49m\u001b[43m,\u001b[49m\u001b[43m \u001b[49m\u001b[43mUser_chunk_overlap\u001b[49m\u001b[43m=\u001b[49m\u001b[43moverlap\u001b[49m\u001b[43m)\u001b[49m\n\u001b[32m     23\u001b[39m     filename = \u001b[33mf\u001b[39m\u001b[33m\"\u001b[39m\u001b[33mchunks_\u001b[39m\u001b[38;5;132;01m{\u001b[39;00msize\u001b[38;5;132;01m}\u001b[39;00m\u001b[33m_\u001b[39m\u001b[38;5;132;01m{\u001b[39;00moverlap\u001b[38;5;132;01m}\u001b[39;00m\u001b[33m.pkl\u001b[39m\u001b[33m\"\u001b[39m\n\u001b[32m     24\u001b[39m     file_path = os.path.join(output_dir, filename)\n",
      "\u001b[36mCell\u001b[39m\u001b[36m \u001b[39m\u001b[32mIn[3]\u001b[39m\u001b[32m, line 3\u001b[39m, in \u001b[36mRead_PDF_LandChain\u001b[39m\u001b[34m(pdf_path, User_chunk_size, User_chunk_overlap)\u001b[39m\n\u001b[32m      1\u001b[39m \u001b[38;5;28;01mdef\u001b[39;00m\u001b[38;5;250m \u001b[39m\u001b[34mRead_PDF_LandChain\u001b[39m(pdf_path=\u001b[33m\"\u001b[39m\u001b[33m2018_IRC_1stptg.pdf\u001b[39m\u001b[33m\"\u001b[39m,User_chunk_size=\u001b[32m100\u001b[39m,User_chunk_overlap=\u001b[32m100\u001b[39m):\n\u001b[32m      2\u001b[39m     loader = PyPDFLoader(pdf_path)\n\u001b[32m----> \u001b[39m\u001b[32m3\u001b[39m     documents = \u001b[43mloader\u001b[49m\u001b[43m.\u001b[49m\u001b[43mload\u001b[49m\u001b[43m(\u001b[49m\u001b[43m)\u001b[49m\n\u001b[32m      4\u001b[39m     text_splitter = RecursiveCharacterTextSplitter(\n\u001b[32m      5\u001b[39m         chunk_size=User_chunk_size, \n\u001b[32m      6\u001b[39m         chunk_overlap=User_chunk_overlap  \n\u001b[32m      7\u001b[39m     )\n\u001b[32m      8\u001b[39m     chunks = text_splitter.split_documents(documents)\n",
      "\u001b[36mFile \u001b[39m\u001b[32me:\\nani projects\\DATA SCIENCE\\RAG\\venv\\Lib\\site-packages\\langchain_core\\document_loaders\\base.py:32\u001b[39m, in \u001b[36mBaseLoader.load\u001b[39m\u001b[34m(self)\u001b[39m\n\u001b[32m     30\u001b[39m \u001b[38;5;28;01mdef\u001b[39;00m\u001b[38;5;250m \u001b[39m\u001b[34mload\u001b[39m(\u001b[38;5;28mself\u001b[39m) -> \u001b[38;5;28mlist\u001b[39m[Document]:\n\u001b[32m     31\u001b[39m \u001b[38;5;250m    \u001b[39m\u001b[33;03m\"\"\"Load data into Document objects.\"\"\"\u001b[39;00m\n\u001b[32m---> \u001b[39m\u001b[32m32\u001b[39m     \u001b[38;5;28;01mreturn\u001b[39;00m \u001b[38;5;28;43mlist\u001b[39;49m\u001b[43m(\u001b[49m\u001b[38;5;28;43mself\u001b[39;49m\u001b[43m.\u001b[49m\u001b[43mlazy_load\u001b[49m\u001b[43m(\u001b[49m\u001b[43m)\u001b[49m\u001b[43m)\u001b[49m\n",
      "\u001b[36mFile \u001b[39m\u001b[32me:\\nani projects\\DATA SCIENCE\\RAG\\venv\\Lib\\site-packages\\langchain_community\\document_loaders\\pdf.py:307\u001b[39m, in \u001b[36mPyPDFLoader.lazy_load\u001b[39m\u001b[34m(self)\u001b[39m\n\u001b[32m    305\u001b[39m \u001b[38;5;28;01melse\u001b[39;00m:\n\u001b[32m    306\u001b[39m     blob = Blob.from_path(\u001b[38;5;28mself\u001b[39m.file_path)  \u001b[38;5;66;03m# type: ignore[attr-defined]\u001b[39;00m\n\u001b[32m--> \u001b[39m\u001b[32m307\u001b[39m \u001b[38;5;28;01myield from\u001b[39;00m \u001b[38;5;28mself\u001b[39m.parser.lazy_parse(blob)\n",
      "\u001b[36mFile \u001b[39m\u001b[32me:\\nani projects\\DATA SCIENCE\\RAG\\venv\\Lib\\site-packages\\langchain_community\\document_loaders\\parsers\\pdf.py:396\u001b[39m, in \u001b[36mPyPDFParser.lazy_parse\u001b[39m\u001b[34m(self, blob)\u001b[39m\n\u001b[32m    394\u001b[39m single_texts = []\n\u001b[32m    395\u001b[39m \u001b[38;5;28;01mfor\u001b[39;00m page_number, page \u001b[38;5;129;01min\u001b[39;00m \u001b[38;5;28menumerate\u001b[39m(pdf_reader.pages):\n\u001b[32m--> \u001b[39m\u001b[32m396\u001b[39m     text_from_page = \u001b[43m_extract_text_from_page\u001b[49m\u001b[43m(\u001b[49m\u001b[43mpage\u001b[49m\u001b[43m=\u001b[49m\u001b[43mpage\u001b[49m\u001b[43m)\u001b[49m\n\u001b[32m    397\u001b[39m     images_from_page = \u001b[38;5;28mself\u001b[39m.extract_images_from_page(page)\n\u001b[32m    398\u001b[39m     all_text = _merge_text_and_extras(\n\u001b[32m    399\u001b[39m         [images_from_page], text_from_page\n\u001b[32m    400\u001b[39m     ).strip()\n",
      "\u001b[36mFile \u001b[39m\u001b[32me:\\nani projects\\DATA SCIENCE\\RAG\\venv\\Lib\\site-packages\\langchain_community\\document_loaders\\parsers\\pdf.py:378\u001b[39m, in \u001b[36mPyPDFParser.lazy_parse.<locals>._extract_text_from_page\u001b[39m\u001b[34m(page)\u001b[39m\n\u001b[32m    376\u001b[39m     \u001b[38;5;28;01mreturn\u001b[39;00m page.extract_text()\n\u001b[32m    377\u001b[39m \u001b[38;5;28;01melse\u001b[39;00m:\n\u001b[32m--> \u001b[39m\u001b[32m378\u001b[39m     \u001b[38;5;28;01mreturn\u001b[39;00m \u001b[43mpage\u001b[49m\u001b[43m.\u001b[49m\u001b[43mextract_text\u001b[49m\u001b[43m(\u001b[49m\n\u001b[32m    379\u001b[39m \u001b[43m        \u001b[49m\u001b[43mextraction_mode\u001b[49m\u001b[43m=\u001b[49m\u001b[38;5;28;43mself\u001b[39;49m\u001b[43m.\u001b[49m\u001b[43mextraction_mode\u001b[49m\u001b[43m,\u001b[49m\n\u001b[32m    380\u001b[39m \u001b[43m        \u001b[49m\u001b[43m*\u001b[49m\u001b[43m*\u001b[49m\u001b[38;5;28;43mself\u001b[39;49m\u001b[43m.\u001b[49m\u001b[43mextraction_kwargs\u001b[49m\u001b[43m,\u001b[49m\n\u001b[32m    381\u001b[39m \u001b[43m    \u001b[49m\u001b[43m)\u001b[49m\n",
      "\u001b[36mFile \u001b[39m\u001b[32me:\\nani projects\\DATA SCIENCE\\RAG\\venv\\Lib\\site-packages\\pypdf\\_page.py:2378\u001b[39m, in \u001b[36mPageObject.extract_text\u001b[39m\u001b[34m(self, orientations, space_width, visitor_operand_before, visitor_operand_after, visitor_text, extraction_mode, *args, **kwargs)\u001b[39m\n\u001b[32m   2375\u001b[39m \u001b[38;5;28;01mif\u001b[39;00m \u001b[38;5;28misinstance\u001b[39m(orientations, \u001b[38;5;28mint\u001b[39m):\n\u001b[32m   2376\u001b[39m     orientations = (orientations,)\n\u001b[32m-> \u001b[39m\u001b[32m2378\u001b[39m \u001b[38;5;28;01mreturn\u001b[39;00m \u001b[38;5;28;43mself\u001b[39;49m\u001b[43m.\u001b[49m\u001b[43m_extract_text\u001b[49m\u001b[43m(\u001b[49m\n\u001b[32m   2379\u001b[39m \u001b[43m    \u001b[49m\u001b[38;5;28;43mself\u001b[39;49m\u001b[43m,\u001b[49m\n\u001b[32m   2380\u001b[39m \u001b[43m    \u001b[49m\u001b[38;5;28;43mself\u001b[39;49m\u001b[43m.\u001b[49m\u001b[43mpdf\u001b[49m\u001b[43m,\u001b[49m\n\u001b[32m   2381\u001b[39m \u001b[43m    \u001b[49m\u001b[43morientations\u001b[49m\u001b[43m,\u001b[49m\n\u001b[32m   2382\u001b[39m \u001b[43m    \u001b[49m\u001b[43mspace_width\u001b[49m\u001b[43m,\u001b[49m\n\u001b[32m   2383\u001b[39m \u001b[43m    \u001b[49m\u001b[43mPG\u001b[49m\u001b[43m.\u001b[49m\u001b[43mCONTENTS\u001b[49m\u001b[43m,\u001b[49m\n\u001b[32m   2384\u001b[39m \u001b[43m    \u001b[49m\u001b[43mvisitor_operand_before\u001b[49m\u001b[43m,\u001b[49m\n\u001b[32m   2385\u001b[39m \u001b[43m    \u001b[49m\u001b[43mvisitor_operand_after\u001b[49m\u001b[43m,\u001b[49m\n\u001b[32m   2386\u001b[39m \u001b[43m    \u001b[49m\u001b[43mvisitor_text\u001b[49m\u001b[43m,\u001b[49m\n\u001b[32m   2387\u001b[39m \u001b[43m\u001b[49m\u001b[43m)\u001b[49m\n",
      "\u001b[36mFile \u001b[39m\u001b[32me:\\nani projects\\DATA SCIENCE\\RAG\\venv\\Lib\\site-packages\\pypdf\\_page.py:2091\u001b[39m, in \u001b[36mPageObject._extract_text\u001b[39m\u001b[34m(self, obj, pdf, orientations, space_width, content_key, visitor_operand_before, visitor_operand_after, visitor_text)\u001b[39m\n\u001b[32m   2089\u001b[39m \u001b[38;5;28;01mfor\u001b[39;00m op \u001b[38;5;129;01min\u001b[39;00m operands[\u001b[32m0\u001b[39m]:\n\u001b[32m   2090\u001b[39m     \u001b[38;5;28;01mif\u001b[39;00m \u001b[38;5;28misinstance\u001b[39m(op, (\u001b[38;5;28mstr\u001b[39m, \u001b[38;5;28mbytes\u001b[39m)):\n\u001b[32m-> \u001b[39m\u001b[32m2091\u001b[39m         \u001b[43mprocess_operation\u001b[49m\u001b[43m(\u001b[49m\u001b[33;43mb\u001b[39;49m\u001b[33;43m\"\u001b[39;49m\u001b[33;43mTj\u001b[39;49m\u001b[33;43m\"\u001b[39;49m\u001b[43m,\u001b[49m\u001b[43m \u001b[49m\u001b[43m[\u001b[49m\u001b[43mop\u001b[49m\u001b[43m]\u001b[49m\u001b[43m)\u001b[49m\n\u001b[32m   2092\u001b[39m     \u001b[38;5;28;01mif\u001b[39;00m \u001b[38;5;28misinstance\u001b[39m(op, (\u001b[38;5;28mint\u001b[39m, \u001b[38;5;28mfloat\u001b[39m, NumberObject, FloatObject)) \u001b[38;5;129;01mand\u001b[39;00m (\n\u001b[32m   2093\u001b[39m         \u001b[38;5;28mabs\u001b[39m(\u001b[38;5;28mfloat\u001b[39m(op)) >= _confirm_space_width\n\u001b[32m   2094\u001b[39m         \u001b[38;5;129;01mand\u001b[39;00m text\n\u001b[32m   2095\u001b[39m         \u001b[38;5;129;01mand\u001b[39;00m text[-\u001b[32m1\u001b[39m] != \u001b[33m\"\u001b[39m\u001b[33m \u001b[39m\u001b[33m\"\u001b[39m\n\u001b[32m   2096\u001b[39m     ):\n\u001b[32m   2097\u001b[39m         process_operation(\u001b[33mb\u001b[39m\u001b[33m\"\u001b[39m\u001b[33mTj\u001b[39m\u001b[33m\"\u001b[39m, [\u001b[33m\"\u001b[39m\u001b[33m \u001b[39m\u001b[33m\"\u001b[39m])\n",
      "\u001b[36mFile \u001b[39m\u001b[32me:\\nani projects\\DATA SCIENCE\\RAG\\venv\\Lib\\site-packages\\pypdf\\_page.py:2035\u001b[39m, in \u001b[36mPageObject._extract_text.<locals>.process_operation\u001b[39m\u001b[34m(operator, operands)\u001b[39m\n\u001b[32m   2033\u001b[39m \u001b[38;5;28;01melif\u001b[39;00m operator == \u001b[33mb\u001b[39m\u001b[33m\"\u001b[39m\u001b[33mTj\u001b[39m\u001b[33m\"\u001b[39m:\n\u001b[32m   2034\u001b[39m     check_crlf_space = \u001b[38;5;28;01mTrue\u001b[39;00m\n\u001b[32m-> \u001b[39m\u001b[32m2035\u001b[39m     text, rtl_dir, _actual_str_size = \u001b[38;5;28;43mself\u001b[39;49m\u001b[43m.\u001b[49m\u001b[43m_handle_tj\u001b[49m\u001b[43m(\u001b[49m\n\u001b[32m   2036\u001b[39m \u001b[43m        \u001b[49m\u001b[43mtext\u001b[49m\u001b[43m,\u001b[49m\n\u001b[32m   2037\u001b[39m \u001b[43m        \u001b[49m\u001b[43moperands\u001b[49m\u001b[43m,\u001b[49m\n\u001b[32m   2038\u001b[39m \u001b[43m        \u001b[49m\u001b[43mcm_matrix\u001b[49m\u001b[43m,\u001b[49m\n\u001b[32m   2039\u001b[39m \u001b[43m        \u001b[49m\u001b[43mtm_matrix\u001b[49m\u001b[43m,\u001b[49m\n\u001b[32m   2040\u001b[39m \u001b[43m        \u001b[49m\u001b[43mcmap\u001b[49m\u001b[43m,\u001b[49m\n\u001b[32m   2041\u001b[39m \u001b[43m        \u001b[49m\u001b[43morientations\u001b[49m\u001b[43m,\u001b[49m\n\u001b[32m   2042\u001b[39m \u001b[43m        \u001b[49m\u001b[43mfont_size\u001b[49m\u001b[43m,\u001b[49m\n\u001b[32m   2043\u001b[39m \u001b[43m        \u001b[49m\u001b[43mrtl_dir\u001b[49m\u001b[43m,\u001b[49m\n\u001b[32m   2044\u001b[39m \u001b[43m        \u001b[49m\u001b[43mvisitor_text\u001b[49m\u001b[43m,\u001b[49m\n\u001b[32m   2045\u001b[39m \u001b[43m        \u001b[49m\u001b[43m_space_width\u001b[49m\u001b[43m,\u001b[49m\n\u001b[32m   2046\u001b[39m \u001b[43m        \u001b[49m\u001b[43m_actual_str_size\u001b[49m\u001b[43m,\u001b[49m\n\u001b[32m   2047\u001b[39m \u001b[43m    \u001b[49m\u001b[43m)\u001b[49m\n\u001b[32m   2048\u001b[39m \u001b[38;5;28;01melse\u001b[39;00m:\n\u001b[32m   2049\u001b[39m     \u001b[38;5;28;01mreturn\u001b[39;00m \u001b[38;5;28;01mNone\u001b[39;00m\n",
      "\u001b[36mFile \u001b[39m\u001b[32me:\\nani projects\\DATA SCIENCE\\RAG\\venv\\Lib\\site-packages\\pypdf\\_page.py:1794\u001b[39m, in \u001b[36mPageObject._handle_tj\u001b[39m\u001b[34m(self, text, operands, cm_matrix, tm_matrix, cmap, orientations, font_size, rtl_dir, visitor_text, space_width, actual_str_size)\u001b[39m\n\u001b[32m   1778\u001b[39m \u001b[38;5;28;01mdef\u001b[39;00m\u001b[38;5;250m \u001b[39m\u001b[34m_handle_tj\u001b[39m(\n\u001b[32m   1779\u001b[39m     \u001b[38;5;28mself\u001b[39m,\n\u001b[32m   1780\u001b[39m     text: \u001b[38;5;28mstr\u001b[39m,\n\u001b[32m   (...)\u001b[39m\u001b[32m   1792\u001b[39m     actual_str_size: Dict[\u001b[38;5;28mstr\u001b[39m, \u001b[38;5;28mfloat\u001b[39m]\n\u001b[32m   1793\u001b[39m ) -> Tuple[\u001b[38;5;28mstr\u001b[39m, \u001b[38;5;28mbool\u001b[39m, Dict[\u001b[38;5;28mstr\u001b[39m, \u001b[38;5;28mfloat\u001b[39m]]:\n\u001b[32m-> \u001b[39m\u001b[32m1794\u001b[39m     text_operands, is_str_operands = \u001b[43mget_text_operands\u001b[49m\u001b[43m(\u001b[49m\n\u001b[32m   1795\u001b[39m \u001b[43m        \u001b[49m\u001b[43moperands\u001b[49m\u001b[43m,\u001b[49m\u001b[43m \u001b[49m\u001b[43mcm_matrix\u001b[49m\u001b[43m,\u001b[49m\u001b[43m \u001b[49m\u001b[43mtm_matrix\u001b[49m\u001b[43m,\u001b[49m\u001b[43m \u001b[49m\u001b[43mcmap\u001b[49m\u001b[43m,\u001b[49m\u001b[43m \u001b[49m\u001b[43morientations\u001b[49m\u001b[43m)\u001b[49m\n\u001b[32m   1796\u001b[39m     \u001b[38;5;28;01mif\u001b[39;00m is_str_operands:\n\u001b[32m   1797\u001b[39m         text += text_operands\n",
      "\u001b[36mFile \u001b[39m\u001b[32me:\\nani projects\\DATA SCIENCE\\RAG\\venv\\Lib\\site-packages\\pypdf\\_text_extraction\\__init__.py:168\u001b[39m, in \u001b[36mget_text_operands\u001b[39m\u001b[34m(operands, cm_matrix, tm_matrix, cmap, orientations)\u001b[39m\n\u001b[32m    166\u001b[39m t: \u001b[38;5;28mstr\u001b[39m = \u001b[33m\"\u001b[39m\u001b[33m\"\u001b[39m\n\u001b[32m    167\u001b[39m is_str_operands = \u001b[38;5;28;01mFalse\u001b[39;00m\n\u001b[32m--> \u001b[39m\u001b[32m168\u001b[39m m = \u001b[43mmult\u001b[49m\u001b[43m(\u001b[49m\u001b[43mtm_matrix\u001b[49m\u001b[43m,\u001b[49m\u001b[43m \u001b[49m\u001b[43mcm_matrix\u001b[49m\u001b[43m)\u001b[49m\n\u001b[32m    169\u001b[39m orientation = orient(m)\n\u001b[32m    170\u001b[39m \u001b[38;5;28;01mif\u001b[39;00m orientation \u001b[38;5;129;01min\u001b[39;00m orientations \u001b[38;5;129;01mand\u001b[39;00m \u001b[38;5;28mlen\u001b[39m(operands) > \u001b[32m0\u001b[39m:\n",
      "\u001b[36mFile \u001b[39m\u001b[32me:\\nani projects\\DATA SCIENCE\\RAG\\venv\\Lib\\site-packages\\pypdf\\_text_extraction\\__init__.py:68\u001b[39m, in \u001b[36mmult\u001b[39m\u001b[34m(m, n)\u001b[39m\n\u001b[32m     64\u001b[39m         CUSTOM_RTL_SPECIAL_CHARS = specials\n\u001b[32m     65\u001b[39m     \u001b[38;5;28;01mreturn\u001b[39;00m CUSTOM_RTL_MIN, CUSTOM_RTL_MAX, CUSTOM_RTL_SPECIAL_CHARS\n\u001b[32m---> \u001b[39m\u001b[32m68\u001b[39m \u001b[38;5;28;01mdef\u001b[39;00m\u001b[38;5;250m \u001b[39m\u001b[34mmult\u001b[39m(m: List[\u001b[38;5;28mfloat\u001b[39m], n: List[\u001b[38;5;28mfloat\u001b[39m]) -> List[\u001b[38;5;28mfloat\u001b[39m]:\n\u001b[32m     69\u001b[39m     \u001b[38;5;28;01mreturn\u001b[39;00m [\n\u001b[32m     70\u001b[39m         m[\u001b[32m0\u001b[39m] * n[\u001b[32m0\u001b[39m] + m[\u001b[32m1\u001b[39m] * n[\u001b[32m2\u001b[39m],\n\u001b[32m     71\u001b[39m         m[\u001b[32m0\u001b[39m] * n[\u001b[32m1\u001b[39m] + m[\u001b[32m1\u001b[39m] * n[\u001b[32m3\u001b[39m],\n\u001b[32m   (...)\u001b[39m\u001b[32m     75\u001b[39m         m[\u001b[32m4\u001b[39m] * n[\u001b[32m1\u001b[39m] + m[\u001b[32m5\u001b[39m] * n[\u001b[32m3\u001b[39m] + n[\u001b[32m5\u001b[39m],\n\u001b[32m     76\u001b[39m     ]\n\u001b[32m     79\u001b[39m \u001b[38;5;28;01mdef\u001b[39;00m\u001b[38;5;250m \u001b[39m\u001b[34morient\u001b[39m(m: List[\u001b[38;5;28mfloat\u001b[39m]) -> \u001b[38;5;28mint\u001b[39m:\n",
      "\u001b[31mKeyboardInterrupt\u001b[39m: "
     ]
    }
   ],
   "source": [
    "chunk_sizes = [100, 200, 300, 400, 500, 700, 1000]\n",
    "chunk_overlaps = [0, 20, 50, 100, 150]\n",
    "pdf_path = \"2018_IRC_1stptg.pdf\"\n",
    "\n",
    "save_pdf_chunks(pdf_path, chunk_sizes, chunk_overlaps)"
   ]
  },
  {
   "cell_type": "code",
   "execution_count": null,
   "metadata": {},
   "outputs": [],
   "source": []
  }
 ],
 "metadata": {
  "kernelspec": {
   "display_name": "Python 3",
   "language": "python",
   "name": "python3"
  },
  "language_info": {
   "codemirror_mode": {
    "name": "ipython",
    "version": 3
   },
   "file_extension": ".py",
   "mimetype": "text/x-python",
   "name": "python",
   "nbconvert_exporter": "python",
   "pygments_lexer": "ipython3",
   "version": "3.12.9"
  }
 },
 "nbformat": 4,
 "nbformat_minor": 2
}
